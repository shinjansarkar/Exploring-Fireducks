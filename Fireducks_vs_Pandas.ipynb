{
  "nbformat": 4,
  "nbformat_minor": 0,
  "metadata": {
    "colab": {
      "provenance": [],
      "authorship_tag": "ABX9TyNY8wf4dWZC0WQITDgbYuj5",
      "include_colab_link": true
    },
    "kernelspec": {
      "name": "python3",
      "display_name": "Python 3"
    },
    "language_info": {
      "name": "python"
    }
  },
  "cells": [
    {
      "cell_type": "markdown",
      "metadata": {
        "id": "view-in-github",
        "colab_type": "text"
      },
      "source": [
        "<a href=\"https://colab.research.google.com/github/shinjansarkar/Exploring-Fireducks/blob/main/Fireducks_vs_Pandas.ipynb\" target=\"_parent\"><img src=\"https://colab.research.google.com/assets/colab-badge.svg\" alt=\"Open In Colab\"/></a>"
      ]
    },
    {
      "cell_type": "markdown",
      "source": [
        "##📦 Installing Required Libraries: Pandas & FireDucks via pip 💻✅"
      ],
      "metadata": {
        "id": "VW0V6QPmAKZd"
      }
    },
    {
      "cell_type": "code",
      "source": [
        "!pip install pandas\n",
        "!pip install fireducks"
      ],
      "metadata": {
        "colab": {
          "base_uri": "https://localhost:8080/"
        },
        "id": "O5JiFe0t6sZo",
        "outputId": "737599e8-dc57-4141-b8e1-339e9fcf2898"
      },
      "execution_count": 6,
      "outputs": [
        {
          "output_type": "stream",
          "name": "stdout",
          "text": [
            "Requirement already satisfied: pandas in /usr/local/lib/python3.11/dist-packages (2.2.2)\n",
            "Requirement already satisfied: numpy>=1.23.2 in /usr/local/lib/python3.11/dist-packages (from pandas) (2.0.2)\n",
            "Requirement already satisfied: python-dateutil>=2.8.2 in /usr/local/lib/python3.11/dist-packages (from pandas) (2.8.2)\n",
            "Requirement already satisfied: pytz>=2020.1 in /usr/local/lib/python3.11/dist-packages (from pandas) (2025.2)\n",
            "Requirement already satisfied: tzdata>=2022.7 in /usr/local/lib/python3.11/dist-packages (from pandas) (2025.2)\n",
            "Requirement already satisfied: six>=1.5 in /usr/local/lib/python3.11/dist-packages (from python-dateutil>=2.8.2->pandas) (1.17.0)\n",
            "Requirement already satisfied: fireducks in /usr/local/lib/python3.11/dist-packages (1.2.6)\n",
            "Requirement already satisfied: firefw==1.2.6 in /usr/local/lib/python3.11/dist-packages (from fireducks) (1.2.6)\n",
            "Requirement already satisfied: pandas<2.3.0,>=1.5.3 in /usr/local/lib/python3.11/dist-packages (from fireducks) (2.2.2)\n",
            "Requirement already satisfied: pyarrow<19.1,>=19.0 in /usr/local/lib/python3.11/dist-packages (from fireducks) (19.0.1)\n",
            "Requirement already satisfied: numpy>=1.23.2 in /usr/local/lib/python3.11/dist-packages (from pandas<2.3.0,>=1.5.3->fireducks) (2.0.2)\n",
            "Requirement already satisfied: python-dateutil>=2.8.2 in /usr/local/lib/python3.11/dist-packages (from pandas<2.3.0,>=1.5.3->fireducks) (2.8.2)\n",
            "Requirement already satisfied: pytz>=2020.1 in /usr/local/lib/python3.11/dist-packages (from pandas<2.3.0,>=1.5.3->fireducks) (2025.2)\n",
            "Requirement already satisfied: tzdata>=2022.7 in /usr/local/lib/python3.11/dist-packages (from pandas<2.3.0,>=1.5.3->fireducks) (2025.2)\n",
            "Requirement already satisfied: six>=1.5 in /usr/local/lib/python3.11/dist-packages (from python-dateutil>=2.8.2->pandas<2.3.0,>=1.5.3->fireducks) (1.17.0)\n"
          ]
        }
      ]
    },
    {
      "cell_type": "markdown",
      "source": [
        "##Enable Benchmark Mode (FireDucks Special):"
      ],
      "metadata": {
        "id": "QPcND0g1cR82"
      }
    },
    {
      "cell_type": "code",
      "source": [
        "FIREDUCKS_FLAGS = \"--benchmark-mode\""
      ],
      "metadata": {
        "id": "xqzyxOuzcRC-"
      },
      "execution_count": 1,
      "outputs": []
    },
    {
      "cell_type": "markdown",
      "source": [
        "##🔍 Performance Comparison: Reading Large CSV with Pandas vs FireDucks 🚀\n",
        "\n"
      ],
      "metadata": {
        "id": "_lePO7miAR6R"
      }
    },
    {
      "cell_type": "code",
      "execution_count": 1,
      "metadata": {
        "colab": {
          "base_uri": "https://localhost:8080/"
        },
        "id": "q8AtGXbE6k0c",
        "outputId": "b1633040-dc9f-464c-86ce-d5289187956d"
      },
      "outputs": [
        {
          "output_type": "stream",
          "name": "stdout",
          "text": [
            "Pandas Read Time: 1.5021946430206299\n",
            "FireDucks Read Time: 0.0494997501373291\n"
          ]
        }
      ],
      "source": [
        "import pandas as pd\n",
        "import fireducks.pandas as fd\n",
        "import time\n",
        "\n",
        "# Create a large CSV (run only once)\n",
        "df = pd.DataFrame({\n",
        "    'A': range(1, 5_000_001),\n",
        "    'B': range(5_000_001, 1, -1)\n",
        "})\n",
        "df.to_csv(\"bigfile.csv\", index=False)\n",
        "\n",
        "# --- Pandas Read ---\n",
        "start = time.time()\n",
        "df_pandas = pd.read_csv(\"bigfile.csv\")\n",
        "print(\"Pandas Read Time:\", time.time() - start)\n",
        "\n",
        "# --- FireDucks Read ---\n",
        "start = time.time()\n",
        "df_firedf = fd.read_csv(\"bigfile.csv\")\n",
        "print(\"FireDucks Read Time:\", time.time() - start)\n"
      ]
    },
    {
      "cell_type": "markdown",
      "source": [
        "##🔎 Complex Filtering & GroupBy: Pandas vs FireDucks Speed Test ⚡📊"
      ],
      "metadata": {
        "id": "EKOjb1J8AVHU"
      }
    },
    {
      "cell_type": "code",
      "source": [
        "# --- Pandas ---\n",
        "start = time.time()\n",
        "result_pandas = df_pandas[df_pandas['A'] % 5 == 0].groupby('B').mean()\n",
        "print(\"Pandas Filter + GroupBy Time:\", time.time() - start)\n",
        "\n",
        "# --- FireDucks ---\n",
        "start = time.time()\n",
        "result_firedf = df_firedf[df_firedf['A'] % 5 == 0].groupby('B').mean()\n",
        "print(\"FireDucks Filter + GroupBy Time:\", time.time() - start)\n"
      ],
      "metadata": {
        "colab": {
          "base_uri": "https://localhost:8080/"
        },
        "id": "qf_JSkkO6rw4",
        "outputId": "0099250f-82fe-4e7c-e1bf-7b66d3b9536d"
      },
      "execution_count": 2,
      "outputs": [
        {
          "output_type": "stream",
          "name": "stdout",
          "text": [
            "Pandas Filter + GroupBy Time: 0.40189552307128906\n",
            "FireDucks Filter + GroupBy Time: 0.002817869186401367\n"
          ]
        }
      ]
    },
    {
      "cell_type": "markdown",
      "source": [
        "##🔗 Data Merging Benchmark: Pandas vs FireDucks 🚀🔄"
      ],
      "metadata": {
        "id": "uLkF3UyaAaZ4"
      }
    },
    {
      "cell_type": "code",
      "source": [
        "df1 = pd.DataFrame({'id': range(1, 1_000_001), 'value1': range(1, 1_000_001)})\n",
        "df2 = pd.DataFrame({'id': range(500_000, 1_500_000), 'value2': range(1, 1_000_001)})\n",
        "\n",
        "fd1 = fd.from_pandas(df1)\n",
        "fd2 = fd.from_pandas(df2)\n",
        "\n",
        "# --- Pandas Merge ---\n",
        "start = time.time()\n",
        "merged_pandas = df1.merge(df2, on='id', how='inner')\n",
        "print(\"Pandas Merge Time:\", time.time() - start)\n",
        "\n",
        "# --- FireDucks Merge ---\n",
        "start = time.time()\n",
        "merged_firedf = fd1.merge(fd2, on='id', how='inner')\n",
        "print(\"FireDucks Merge Time:\", time.time() - start)\n"
      ],
      "metadata": {
        "colab": {
          "base_uri": "https://localhost:8080/"
        },
        "id": "Bqcl-p-jAdhC",
        "outputId": "7e52b6b7-7b47-4de0-a296-a17e1fb5ada4"
      },
      "execution_count": 3,
      "outputs": [
        {
          "output_type": "stream",
          "name": "stdout",
          "text": [
            "Pandas Merge Time: 0.05016160011291504\n",
            "FireDucks Merge Time: 0.0005049705505371094\n"
          ]
        }
      ]
    },
    {
      "cell_type": "markdown",
      "source": [
        "##➕ Column Addition Performance: Pandas vs FireDucks ⚡🧮"
      ],
      "metadata": {
        "id": "WCxuLO4FCWz6"
      }
    },
    {
      "cell_type": "code",
      "source": [
        "# --- Pandas ---\n",
        "start = time.time()\n",
        "df_pandas['C'] = df_pandas['A'] + df_pandas['B']\n",
        "print(\"Pandas Column Addition Time:\", time.time() - start)\n",
        "\n",
        "# --- FireDucks ---\n",
        "start = time.time()\n",
        "df_firedf['C'] = df_firedf['A'] + df_firedf['B']\n",
        "print(\"FireDucks Column Addition Time:\", time.time() - start)\n"
      ],
      "metadata": {
        "colab": {
          "base_uri": "https://localhost:8080/"
        },
        "id": "VBVZCjrQA_7L",
        "outputId": "47c13a64-ec37-4a8f-cb20-b3a9499c242c"
      },
      "execution_count": 4,
      "outputs": [
        {
          "output_type": "stream",
          "name": "stdout",
          "text": [
            "Pandas Column Addition Time: 0.04266953468322754\n",
            "FireDucks Column Addition Time: 0.0007185935974121094\n"
          ]
        }
      ]
    },
    {
      "cell_type": "markdown",
      "source": [
        "##📊 Visual Performance Comparison: Pandas vs FireDucks (Bar Chart) 🚀"
      ],
      "metadata": {
        "id": "QOp76iHfHyev"
      }
    },
    {
      "cell_type": "code",
      "source": [
        "import matplotlib.pyplot as plt\n",
        "\n",
        "# Operation names\n",
        "operations = [\n",
        "    \"CSV Read\",\n",
        "    \"Filter + GroupBy\",\n",
        "    \"Merge\",\n",
        "    \"Column Addition\"\n",
        "]\n",
        "\n",
        "# Timings in seconds\n",
        "pandas_times = [\n",
        "    1.056403636932373,\n",
        "    0.6559267044067383,\n",
        "    0.06973576545715332,\n",
        "    0.07230448722839355\n",
        "]\n",
        "\n",
        "fireducks_times = [\n",
        "    0.022218704223632812,\n",
        "    0.004991292953491211,\n",
        "    0.0005903244018554688,\n",
        "    0.0011932849884033203\n",
        "]\n",
        "\n",
        "# Bar chart setup\n",
        "x = range(len(operations))\n",
        "bar_width = 0.35\n",
        "\n",
        "plt.figure(figsize=(10, 6))\n",
        "plt.bar(x, pandas_times, width=bar_width, label='Pandas', color='skyblue')\n",
        "plt.bar([i + bar_width for i in x], fireducks_times, width=bar_width, label='FireDucks', color='orange')\n",
        "plt.xlabel('Operations')\n",
        "plt.ylabel('Time (seconds)')\n",
        "plt.title('Pandas vs FireDucks Performance')\n",
        "plt.xticks([i + bar_width / 2 for i in x], operations)\n",
        "plt.legend()\n",
        "plt.tight_layout()\n",
        "plt.show()\n"
      ],
      "metadata": {
        "colab": {
          "base_uri": "https://localhost:8080/",
          "height": 607
        },
        "id": "XrzfxF_iDet-",
        "outputId": "11b235a7-f774-4247-c3c0-f3bac0b9bc51"
      },
      "execution_count": 5,
      "outputs": [
        {
          "output_type": "display_data",
          "data": {
            "text/plain": [
              "<Figure size 1000x600 with 1 Axes>"
            ],
            "image/png": "[encoded data removed]"
          },
          "metadata": {}
        }
      ]
    }
  ]
}